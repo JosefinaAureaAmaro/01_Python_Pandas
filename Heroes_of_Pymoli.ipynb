{
 "cells": [
  {
   "cell_type": "code",
   "execution_count": 2,
   "metadata": {},
   "outputs": [],
   "source": [
    "import pandas as pd\n",
    "import numpy as np"
   ]
  },
  {
   "cell_type": "code",
   "execution_count": 3,
   "metadata": {},
   "outputs": [],
   "source": [
    "filepath = './HeroesOfPymoli_Resources_purchase_data.csv'"
   ]
  },
  {
   "cell_type": "code",
   "execution_count": 4,
   "metadata": {},
   "outputs": [],
   "source": [
    "df = pd.read_csv(filepath,encoding=\"ISO-8859-1\")"
   ]
  },
  {
   "cell_type": "code",
   "execution_count": 5,
   "metadata": {},
   "outputs": [
    {
     "data": {
      "text/html": [
       "<div>\n",
       "<style scoped>\n",
       "    .dataframe tbody tr th:only-of-type {\n",
       "        vertical-align: middle;\n",
       "    }\n",
       "\n",
       "    .dataframe tbody tr th {\n",
       "        vertical-align: top;\n",
       "    }\n",
       "\n",
       "    .dataframe thead th {\n",
       "        text-align: right;\n",
       "    }\n",
       "</style>\n",
       "<table border=\"1\" class=\"dataframe\">\n",
       "  <thead>\n",
       "    <tr style=\"text-align: right;\">\n",
       "      <th></th>\n",
       "      <th>Purchase ID</th>\n",
       "      <th>SN</th>\n",
       "      <th>Age</th>\n",
       "      <th>Gender</th>\n",
       "      <th>Item ID</th>\n",
       "      <th>Item Name</th>\n",
       "      <th>Price</th>\n",
       "    </tr>\n",
       "  </thead>\n",
       "  <tbody>\n",
       "    <tr>\n",
       "      <th>0</th>\n",
       "      <td>0</td>\n",
       "      <td>Lisim78</td>\n",
       "      <td>20</td>\n",
       "      <td>Male</td>\n",
       "      <td>108</td>\n",
       "      <td>Extraction, Quickblade Of Trembling Hands</td>\n",
       "      <td>3.53</td>\n",
       "    </tr>\n",
       "    <tr>\n",
       "      <th>1</th>\n",
       "      <td>1</td>\n",
       "      <td>Lisovynya38</td>\n",
       "      <td>40</td>\n",
       "      <td>Male</td>\n",
       "      <td>143</td>\n",
       "      <td>Frenzied Scimitar</td>\n",
       "      <td>1.56</td>\n",
       "    </tr>\n",
       "    <tr>\n",
       "      <th>2</th>\n",
       "      <td>2</td>\n",
       "      <td>Ithergue48</td>\n",
       "      <td>24</td>\n",
       "      <td>Male</td>\n",
       "      <td>92</td>\n",
       "      <td>Final Critic</td>\n",
       "      <td>4.88</td>\n",
       "    </tr>\n",
       "    <tr>\n",
       "      <th>3</th>\n",
       "      <td>3</td>\n",
       "      <td>Chamassasya86</td>\n",
       "      <td>24</td>\n",
       "      <td>Male</td>\n",
       "      <td>100</td>\n",
       "      <td>Blindscythe</td>\n",
       "      <td>3.27</td>\n",
       "    </tr>\n",
       "    <tr>\n",
       "      <th>4</th>\n",
       "      <td>4</td>\n",
       "      <td>Iskosia90</td>\n",
       "      <td>23</td>\n",
       "      <td>Male</td>\n",
       "      <td>131</td>\n",
       "      <td>Fury</td>\n",
       "      <td>1.44</td>\n",
       "    </tr>\n",
       "    <tr>\n",
       "      <th>5</th>\n",
       "      <td>5</td>\n",
       "      <td>Yalae81</td>\n",
       "      <td>22</td>\n",
       "      <td>Male</td>\n",
       "      <td>81</td>\n",
       "      <td>Dreamkiss</td>\n",
       "      <td>3.61</td>\n",
       "    </tr>\n",
       "    <tr>\n",
       "      <th>6</th>\n",
       "      <td>6</td>\n",
       "      <td>Itheria73</td>\n",
       "      <td>36</td>\n",
       "      <td>Male</td>\n",
       "      <td>169</td>\n",
       "      <td>Interrogator, Blood Blade of the Queen</td>\n",
       "      <td>2.18</td>\n",
       "    </tr>\n",
       "    <tr>\n",
       "      <th>7</th>\n",
       "      <td>7</td>\n",
       "      <td>Iskjaskst81</td>\n",
       "      <td>20</td>\n",
       "      <td>Male</td>\n",
       "      <td>162</td>\n",
       "      <td>Abyssal Shard</td>\n",
       "      <td>2.67</td>\n",
       "    </tr>\n",
       "    <tr>\n",
       "      <th>8</th>\n",
       "      <td>8</td>\n",
       "      <td>Undjask33</td>\n",
       "      <td>22</td>\n",
       "      <td>Male</td>\n",
       "      <td>21</td>\n",
       "      <td>Souleater</td>\n",
       "      <td>1.10</td>\n",
       "    </tr>\n",
       "    <tr>\n",
       "      <th>9</th>\n",
       "      <td>9</td>\n",
       "      <td>Chanosian48</td>\n",
       "      <td>35</td>\n",
       "      <td>Other / Non-Disclosed</td>\n",
       "      <td>136</td>\n",
       "      <td>Ghastly Adamantite Protector</td>\n",
       "      <td>3.58</td>\n",
       "    </tr>\n",
       "  </tbody>\n",
       "</table>\n",
       "</div>"
      ],
      "text/plain": [
       "   Purchase ID             SN  Age                 Gender  Item ID  \\\n",
       "0            0        Lisim78   20                   Male      108   \n",
       "1            1    Lisovynya38   40                   Male      143   \n",
       "2            2     Ithergue48   24                   Male       92   \n",
       "3            3  Chamassasya86   24                   Male      100   \n",
       "4            4      Iskosia90   23                   Male      131   \n",
       "5            5        Yalae81   22                   Male       81   \n",
       "6            6      Itheria73   36                   Male      169   \n",
       "7            7    Iskjaskst81   20                   Male      162   \n",
       "8            8      Undjask33   22                   Male       21   \n",
       "9            9    Chanosian48   35  Other / Non-Disclosed      136   \n",
       "\n",
       "                                   Item Name  Price  \n",
       "0  Extraction, Quickblade Of Trembling Hands   3.53  \n",
       "1                          Frenzied Scimitar   1.56  \n",
       "2                               Final Critic   4.88  \n",
       "3                                Blindscythe   3.27  \n",
       "4                                       Fury   1.44  \n",
       "5                                  Dreamkiss   3.61  \n",
       "6     Interrogator, Blood Blade of the Queen   2.18  \n",
       "7                              Abyssal Shard   2.67  \n",
       "8                                  Souleater   1.10  \n",
       "9               Ghastly Adamantite Protector   3.58  "
      ]
     },
     "execution_count": 5,
     "metadata": {},
     "output_type": "execute_result"
    }
   ],
   "source": [
    "#preview of DataFrame\n",
    "df.head(10)"
   ]
  },
  {
   "cell_type": "code",
   "execution_count": 6,
   "metadata": {},
   "outputs": [
    {
     "data": {
      "text/plain": [
       "Purchase ID    780\n",
       "SN             780\n",
       "Age            780\n",
       "Gender         780\n",
       "Item ID        780\n",
       "Item Name      780\n",
       "Price          780\n",
       "dtype: int64"
      ]
     },
     "execution_count": 6,
     "metadata": {},
     "output_type": "execute_result"
    }
   ],
   "source": [
    "#identify complete rows\n",
    "df.count()"
   ]
  },
  {
   "cell_type": "code",
   "execution_count": 7,
   "metadata": {},
   "outputs": [
    {
     "data": {
      "text/plain": [
       "Purchase ID      int64\n",
       "SN              object\n",
       "Age              int64\n",
       "Gender          object\n",
       "Item ID          int64\n",
       "Item Name       object\n",
       "Price          float64\n",
       "dtype: object"
      ]
     },
     "execution_count": 7,
     "metadata": {},
     "output_type": "execute_result"
    }
   ],
   "source": [
    "#review the column types\n",
    "df.dtypes"
   ]
  },
  {
   "cell_type": "code",
   "execution_count": 8,
   "metadata": {},
   "outputs": [
    {
     "data": {
      "text/plain": [
       "Purchase ID    float32\n",
       "SN              object\n",
       "Age              int64\n",
       "Gender          object\n",
       "Item ID        float32\n",
       "Item Name       object\n",
       "Price          float64\n",
       "dtype: object"
      ]
     },
     "execution_count": 8,
     "metadata": {},
     "output_type": "execute_result"
    }
   ],
   "source": [
    "#change item id from Int64 to float64\n",
    "df['Item ID'] = pd.to_numeric(df['Item ID'], downcast= 'float')\n",
    "df['Purchase ID'] =pd.to_numeric(df['Purchase ID'], downcast= 'float')\n",
    "\n",
    "df.dtypes"
   ]
  },
  {
   "cell_type": "code",
   "execution_count": 9,
   "metadata": {},
   "outputs": [
    {
     "name": "stdout",
     "output_type": "stream",
     "text": [
      "--------------\n",
      "Total Player Count\n",
      "--------------\n"
     ]
    },
    {
     "data": {
      "text/plain": [
       "576"
      ]
     },
     "execution_count": 9,
     "metadata": {},
     "output_type": "execute_result"
    }
   ],
   "source": [
    "print('--------------')\n",
    "print('Total Player Count')\n",
    "print('--------------')\n",
    "\n",
    "#Calculate Total Number of Players\n",
    "playercount =df['SN'].nunique()\n",
    "playercount"
   ]
  },
  {
   "cell_type": "code",
   "execution_count": 10,
   "metadata": {},
   "outputs": [
    {
     "name": "stdout",
     "output_type": "stream",
     "text": [
      "--------------\n",
      "Purchasing Analysis (Total)\n",
      "--------------\n"
     ]
    },
    {
     "data": {
      "text/html": [
       "<div>\n",
       "<style scoped>\n",
       "    .dataframe tbody tr th:only-of-type {\n",
       "        vertical-align: middle;\n",
       "    }\n",
       "\n",
       "    .dataframe tbody tr th {\n",
       "        vertical-align: top;\n",
       "    }\n",
       "\n",
       "    .dataframe thead th {\n",
       "        text-align: right;\n",
       "    }\n",
       "</style>\n",
       "<table border=\"1\" class=\"dataframe\">\n",
       "  <thead>\n",
       "    <tr style=\"text-align: right;\">\n",
       "      <th></th>\n",
       "      <th>Number of Unique Items</th>\n",
       "      <th>Average Purchase Price</th>\n",
       "      <th>Total Number of Purchases</th>\n",
       "      <th>Total Revenue</th>\n",
       "    </tr>\n",
       "  </thead>\n",
       "  <tbody>\n",
       "    <tr>\n",
       "      <th>0</th>\n",
       "      <td>179</td>\n",
       "      <td>3.10</td>\n",
       "      <td>780</td>\n",
       "      <td>2,379.80</td>\n",
       "    </tr>\n",
       "  </tbody>\n",
       "</table>\n",
       "</div>"
      ],
      "text/plain": [
       "   Number of Unique Items  Average Purchase Price  Total Number of Purchases  \\\n",
       "0                     179                    3.10                        780   \n",
       "\n",
       "   Total Revenue  \n",
       "0       2,379.80  "
      ]
     },
     "execution_count": 10,
     "metadata": {},
     "output_type": "execute_result"
    }
   ],
   "source": [
    "print('--------------')\n",
    "print('Purchasing Analysis (Total)')\n",
    "print('--------------')\n",
    "\n",
    "\n",
    "#Calculate Number of Unique Items, Avg purch Price, Total Num of Puchases, & Total Revenue\n",
    "pd.options.display.float_format = '{:,.2f}'.format\n",
    "numofuniqueitems_df = round(df['Item Name'].nunique(),1)\n",
    "#I know there is 2 item ids for 1 item , which I show later in the analysis. thus I used item name\n",
    "\n",
    "avgpurchprice_df =round(df['Price'].mean(),1)\n",
    "\n",
    "\n",
    "ttlnumofpurchases_df = round(df['Purchase ID'].count(),1)\n",
    "\n",
    "\n",
    "totalrev_df = round(df['Price'].sum(),1)\n",
    "\n",
    "\n",
    "#merge our data frames together\n",
    "Purchasing_Analysis_df= pd.DataFrame({\"Number of Unique Items\": [numofuniqueitems_df], \"Average Purchase Price\":[avgpurchprice_df],\"Total Number of Purchases\": [ttlnumofpurchases_df],\"Total Revenue\":[totalrev_df]})\n",
    "Purchasing_Analysis_df"
   ]
  },
  {
   "cell_type": "code",
   "execution_count": 11,
   "metadata": {},
   "outputs": [
    {
     "name": "stdout",
     "output_type": "stream",
     "text": [
      "--------------\n",
      "Gender and Age Statistics\n",
      "--------------\n"
     ]
    },
    {
     "data": {
      "text/html": [
       "<div>\n",
       "<style scoped>\n",
       "    .dataframe tbody tr th:only-of-type {\n",
       "        vertical-align: middle;\n",
       "    }\n",
       "\n",
       "    .dataframe tbody tr th {\n",
       "        vertical-align: top;\n",
       "    }\n",
       "\n",
       "    .dataframe thead th {\n",
       "        text-align: right;\n",
       "    }\n",
       "</style>\n",
       "<table border=\"1\" class=\"dataframe\">\n",
       "  <thead>\n",
       "    <tr style=\"text-align: right;\">\n",
       "      <th></th>\n",
       "      <th>Gender</th>\n",
       "      <th>count</th>\n",
       "      <th>mean</th>\n",
       "      <th>std</th>\n",
       "      <th>min</th>\n",
       "      <th>25%</th>\n",
       "      <th>50%</th>\n",
       "      <th>75%</th>\n",
       "      <th>max</th>\n",
       "    </tr>\n",
       "  </thead>\n",
       "  <tbody>\n",
       "    <tr>\n",
       "      <th>0</th>\n",
       "      <td>Female</td>\n",
       "      <td>113.00</td>\n",
       "      <td>21.00</td>\n",
       "      <td>6.00</td>\n",
       "      <td>7.00</td>\n",
       "      <td>18.00</td>\n",
       "      <td>21.00</td>\n",
       "      <td>24.00</td>\n",
       "      <td>40.00</td>\n",
       "    </tr>\n",
       "    <tr>\n",
       "      <th>1</th>\n",
       "      <td>Male</td>\n",
       "      <td>652.00</td>\n",
       "      <td>23.00</td>\n",
       "      <td>7.00</td>\n",
       "      <td>7.00</td>\n",
       "      <td>20.00</td>\n",
       "      <td>22.00</td>\n",
       "      <td>25.00</td>\n",
       "      <td>45.00</td>\n",
       "    </tr>\n",
       "    <tr>\n",
       "      <th>2</th>\n",
       "      <td>Other / Non-Disclosed</td>\n",
       "      <td>15.00</td>\n",
       "      <td>24.00</td>\n",
       "      <td>8.00</td>\n",
       "      <td>15.00</td>\n",
       "      <td>18.00</td>\n",
       "      <td>21.00</td>\n",
       "      <td>30.00</td>\n",
       "      <td>38.00</td>\n",
       "    </tr>\n",
       "  </tbody>\n",
       "</table>\n",
       "</div>"
      ],
      "text/plain": [
       "                  Gender  count  mean  std   min   25%   50%   75%   max\n",
       "0                 Female 113.00 21.00 6.00  7.00 18.00 21.00 24.00 40.00\n",
       "1                   Male 652.00 23.00 7.00  7.00 20.00 22.00 25.00 45.00\n",
       "2  Other / Non-Disclosed  15.00 24.00 8.00 15.00 18.00 21.00 30.00 38.00"
      ]
     },
     "execution_count": 11,
     "metadata": {},
     "output_type": "execute_result"
    }
   ],
   "source": []
  },
  {
   "cell_type": "code",
   "execution_count": 12,
   "metadata": {},
   "outputs": [
    {
     "name": "stdout",
     "output_type": "stream",
     "text": [
      "--------------\n",
      "Gender Demographics\n",
      "--------------\n"
     ]
    }
   ],
   "source": [
    "#Gender demographics\n",
    "print('--------------')\n",
    "print('Gender Demographics')\n",
    "print('--------------')\n",
    "players = df.groupby('Gender')['SN'].nunique()\n"
   ]
  },
  {
   "cell_type": "code",
   "execution_count": 45,
   "metadata": {},
   "outputs": [
    {
     "data": {
      "text/html": [
       "<div>\n",
       "<style scoped>\n",
       "    .dataframe tbody tr th:only-of-type {\n",
       "        vertical-align: middle;\n",
       "    }\n",
       "\n",
       "    .dataframe tbody tr th {\n",
       "        vertical-align: top;\n",
       "    }\n",
       "\n",
       "    .dataframe thead th {\n",
       "        text-align: right;\n",
       "    }\n",
       "</style>\n",
       "<table border=\"1\" class=\"dataframe\">\n",
       "  <thead>\n",
       "    <tr style=\"text-align: right;\">\n",
       "      <th></th>\n",
       "      <th>Description</th>\n",
       "      <th>Count</th>\n",
       "      <th>Percentage</th>\n",
       "    </tr>\n",
       "  </thead>\n",
       "  <tbody>\n",
       "    <tr>\n",
       "      <th>0</th>\n",
       "      <td>Male Players</td>\n",
       "      <td>484</td>\n",
       "      <td>84.03</td>\n",
       "    </tr>\n",
       "    <tr>\n",
       "      <th>1</th>\n",
       "      <td>Female Players</td>\n",
       "      <td>81</td>\n",
       "      <td>14.06</td>\n",
       "    </tr>\n",
       "    <tr>\n",
       "      <th>2</th>\n",
       "      <td>Other Players</td>\n",
       "      <td>11</td>\n",
       "      <td>1.91</td>\n",
       "    </tr>\n",
       "  </tbody>\n",
       "</table>\n",
       "</div>"
      ],
      "text/plain": [
       "      Description  Count  Percentage\n",
       "0    Male Players    484       84.03\n",
       "1  Female Players     81       14.06\n",
       "2   Other Players     11        1.91"
      ]
     },
     "execution_count": 45,
     "metadata": {},
     "output_type": "execute_result"
    }
   ],
   "source": [
    "#to get the values for Gender Summary Table\n",
    "\n",
    "#Calculating the % Count per Gender Bracket\n",
    "maleplayers_perc = ((players.iloc[1]/playercount)*100)\n",
    "femaleplayers_perc = (players.iloc[0]/playercount)*100\n",
    "otherplayers_perc = (players.iloc[2]/playercount)*100\n",
    "\n",
    "#Merge Data into a DF\n",
    "genderdemo_df = pd.DataFrame([\n",
    "    {\"Description\":\"Male Players\",\"Count\": players.iloc[1],\"Percentage\": maleplayers_perc},\n",
    "    {\"Description\":\"Female Players\",\"Count\": players.iloc[0],\"Percentage\": femaleplayers_perc},\n",
    "    {\"Description\":\"Other Players\",\"Count\": players.iloc[2],\"Percentage\": otherplayers_perc}\n",
    "])\n",
    "\n",
    "format_mapping={'Percentage': '{:.2f}%'}\n",
    "genderdemo_df.set_index('Description').reset_index()\n"
   ]
  },
  {
   "cell_type": "code",
   "execution_count": 47,
   "metadata": {},
   "outputs": [
    {
     "name": "stdout",
     "output_type": "stream",
     "text": [
      "--------------\n",
      "Purchase Analysis (Gender)\n",
      "--------------\n"
     ]
    }
   ],
   "source": [
    "#Purchase Analysis (Gender)\n",
    "print('--------------')\n",
    "print('Purchase Analysis (Gender)')\n",
    "print('--------------')\n",
    "\n",
    "Purchase_Count= df.groupby('Gender')['Price'].count()\n",
    "Purchase_Count_set =Purchase_Count.reset_index(name='Total # Purchases')\n"
   ]
  },
  {
   "cell_type": "code",
   "execution_count": 15,
   "metadata": {},
   "outputs": [],
   "source": [
    "#Purchase Analysis (Gender): Avg Purchase Price\n",
    "avgpurprice = df.groupby('Gender')['Price'].mean()\n",
    "avgpurprice_set = avgpurprice.reset_index(name='Avg Purchase Price')\n"
   ]
  },
  {
   "cell_type": "code",
   "execution_count": 16,
   "metadata": {},
   "outputs": [],
   "source": [
    "#Purchase Analysis (Gender): Total Purchase Value\n",
    "ttlpurvalue = df.groupby('Gender')['Price'].sum()\n",
    "ttlpurvalue_set = ttlpurvalue.reset_index(name= 'Total Purchase Value')\n"
   ]
  },
  {
   "cell_type": "code",
   "execution_count": 17,
   "metadata": {},
   "outputs": [],
   "source": [
    "#Purchase Analysis (Gender): Avg Purchase Total per Gender\n",
    "avpurttl = df.groupby('Gender')['Price'].sum()/df.groupby('Gender')['SN'].nunique()\n",
    "avpurttl_set = avpurttl.reset_index(name=\"Avg. Purchase Total\")"
   ]
  },
  {
   "cell_type": "code",
   "execution_count": 48,
   "metadata": {},
   "outputs": [
    {
     "data": {
      "text/html": [
       "<div>\n",
       "<style scoped>\n",
       "    .dataframe tbody tr th:only-of-type {\n",
       "        vertical-align: middle;\n",
       "    }\n",
       "\n",
       "    .dataframe tbody tr th {\n",
       "        vertical-align: top;\n",
       "    }\n",
       "\n",
       "    .dataframe thead th {\n",
       "        text-align: right;\n",
       "    }\n",
       "</style>\n",
       "<table border=\"1\" class=\"dataframe\">\n",
       "  <thead>\n",
       "    <tr style=\"text-align: right;\">\n",
       "      <th></th>\n",
       "      <th>Gender</th>\n",
       "      <th>Total # Purchases</th>\n",
       "      <th>Avg Purchase Price</th>\n",
       "      <th>Total Purchase Value</th>\n",
       "      <th>Avg. Purchase Total</th>\n",
       "    </tr>\n",
       "  </thead>\n",
       "  <tbody>\n",
       "    <tr>\n",
       "      <th>0</th>\n",
       "      <td>Female</td>\n",
       "      <td>113</td>\n",
       "      <td>3.20</td>\n",
       "      <td>361.94</td>\n",
       "      <td>4.47</td>\n",
       "    </tr>\n",
       "    <tr>\n",
       "      <th>1</th>\n",
       "      <td>Male</td>\n",
       "      <td>652</td>\n",
       "      <td>3.02</td>\n",
       "      <td>1,967.64</td>\n",
       "      <td>4.07</td>\n",
       "    </tr>\n",
       "    <tr>\n",
       "      <th>2</th>\n",
       "      <td>Other / Non-Disclosed</td>\n",
       "      <td>15</td>\n",
       "      <td>3.35</td>\n",
       "      <td>50.19</td>\n",
       "      <td>4.56</td>\n",
       "    </tr>\n",
       "  </tbody>\n",
       "</table>\n",
       "</div>"
      ],
      "text/plain": [
       "                  Gender  Total # Purchases  Avg Purchase Price  \\\n",
       "0                 Female                113                3.20   \n",
       "1                   Male                652                3.02   \n",
       "2  Other / Non-Disclosed                 15                3.35   \n",
       "\n",
       "   Total Purchase Value  Avg. Purchase Total  \n",
       "0                361.94                 4.47  \n",
       "1              1,967.64                 4.07  \n",
       "2                 50.19                 4.56  "
      ]
     },
     "execution_count": 48,
     "metadata": {},
     "output_type": "execute_result"
    }
   ],
   "source": [
    "#Purchase Analysis (Gender): Final DataFrame \n",
    "purchase_anaysis_df = pd.merge(Purchase_Count_set,avgpurprice_set, how = 'outer', on=\"Gender\")\n",
    "purchase_anaysis_df_2 = pd.merge(purchase_anaysis_df,ttlpurvalue_set, how = 'outer', on=\"Gender\")\n",
    "purchase_anaysis_df_3 = pd.merge(purchase_anaysis_df_2,avpurttl_set, how = 'outer', on=\"Gender\")\n",
    "purchase_anaysis_df_3"
   ]
  },
  {
   "cell_type": "code",
   "execution_count": 49,
   "metadata": {},
   "outputs": [
    {
     "name": "stdout",
     "output_type": "stream",
     "text": [
      "------------\n",
      "Age Demographics\n",
      "------------\n"
     ]
    }
   ],
   "source": [
    "#Age Demographics\n",
    "\n",
    "print('------------')\n",
    "print('Age Demographics')\n",
    "print('------------')\n",
    "#create a new column that is filled with a description object based on the value in the age column\n",
    "#create bins for the data to be held\n",
    "Age_Bins= [0,10,14,19,24,29,34,39,100]\n",
    "#create the names for the for bins\n",
    "brackets_descriptions= ['>10','10-14','15-19','20-24','25-29','30-34','35-39','40+']"
   ]
  },
  {
   "cell_type": "code",
   "execution_count": 51,
   "metadata": {},
   "outputs": [],
   "source": [
    "#to create new DF with Age Bracket column \n",
    "df[\"Age Bracket\"] = pd.cut(df[\"Age\"],Age_Bins, labels= brackets_descriptions)\n"
   ]
  },
  {
   "cell_type": "code",
   "execution_count": 52,
   "metadata": {},
   "outputs": [],
   "source": [
    "#calculate Purchase Count\n",
    "\n",
    "age_purch_count = df.groupby('Age Bracket')[\"Price\"].count().reset_index(name = \"Purchase Count\")\n"
   ]
  },
  {
   "cell_type": "code",
   "execution_count": 53,
   "metadata": {},
   "outputs": [],
   "source": [
    "#Calculate Average Purchase Price\n",
    "\n",
    "age_avgpurch_price = df.groupby('Age Bracket')[\"Price\"].mean().reset_index(name = \"Average Purchase Price\")\n"
   ]
  },
  {
   "cell_type": "code",
   "execution_count": 54,
   "metadata": {},
   "outputs": [],
   "source": [
    "# Calculate Total Purchase Value\n",
    "age_totalpurch_price = df.groupby('Age Bracket')[\"Price\"].sum().reset_index(name = \"Total Purchase Value\")\n"
   ]
  },
  {
   "cell_type": "code",
   "execution_count": 55,
   "metadata": {},
   "outputs": [],
   "source": [
    "#Calculate Average Purchase Total per Person by Age Group\n",
    "\n",
    "age_avgtotalper_age = age_totalpurch_price.iloc[:,1]/age_purch_count.iloc[:,1]\n"
   ]
  },
  {
   "cell_type": "code",
   "execution_count": 56,
   "metadata": {},
   "outputs": [],
   "source": [
    "#to make a df of Average Purchase Total per Person by Age Group\n",
    "\n",
    "age_avgtotalper_age_df= pd.DataFrame({\"Age Bracket\":brackets_descriptions, \"Average Purchase Total per Age Group\": age_avgtotalper_age})\n"
   ]
  },
  {
   "cell_type": "code",
   "execution_count": 57,
   "metadata": {},
   "outputs": [
    {
     "data": {
      "text/html": [
       "<div>\n",
       "<style scoped>\n",
       "    .dataframe tbody tr th:only-of-type {\n",
       "        vertical-align: middle;\n",
       "    }\n",
       "\n",
       "    .dataframe tbody tr th {\n",
       "        vertical-align: top;\n",
       "    }\n",
       "\n",
       "    .dataframe thead th {\n",
       "        text-align: right;\n",
       "    }\n",
       "</style>\n",
       "<table border=\"1\" class=\"dataframe\">\n",
       "  <thead>\n",
       "    <tr style=\"text-align: right;\">\n",
       "      <th></th>\n",
       "      <th>Age Bracket</th>\n",
       "      <th>Purchase Count</th>\n",
       "      <th>Average Purchase Price</th>\n",
       "      <th>Total Purchase Value</th>\n",
       "      <th>Average Purchase Total per Age Group</th>\n",
       "    </tr>\n",
       "  </thead>\n",
       "  <tbody>\n",
       "    <tr>\n",
       "      <th>0</th>\n",
       "      <td>&gt;10</td>\n",
       "      <td>32</td>\n",
       "      <td>3.40</td>\n",
       "      <td>108.96</td>\n",
       "      <td>3.40</td>\n",
       "    </tr>\n",
       "    <tr>\n",
       "      <th>1</th>\n",
       "      <td>10-14</td>\n",
       "      <td>19</td>\n",
       "      <td>2.68</td>\n",
       "      <td>50.95</td>\n",
       "      <td>2.68</td>\n",
       "    </tr>\n",
       "    <tr>\n",
       "      <th>2</th>\n",
       "      <td>15-19</td>\n",
       "      <td>136</td>\n",
       "      <td>3.04</td>\n",
       "      <td>412.89</td>\n",
       "      <td>3.04</td>\n",
       "    </tr>\n",
       "    <tr>\n",
       "      <th>3</th>\n",
       "      <td>20-24</td>\n",
       "      <td>365</td>\n",
       "      <td>3.05</td>\n",
       "      <td>1,114.06</td>\n",
       "      <td>3.05</td>\n",
       "    </tr>\n",
       "    <tr>\n",
       "      <th>4</th>\n",
       "      <td>25-29</td>\n",
       "      <td>101</td>\n",
       "      <td>2.90</td>\n",
       "      <td>293.00</td>\n",
       "      <td>2.90</td>\n",
       "    </tr>\n",
       "    <tr>\n",
       "      <th>5</th>\n",
       "      <td>30-34</td>\n",
       "      <td>73</td>\n",
       "      <td>2.93</td>\n",
       "      <td>214.00</td>\n",
       "      <td>2.93</td>\n",
       "    </tr>\n",
       "    <tr>\n",
       "      <th>6</th>\n",
       "      <td>35-39</td>\n",
       "      <td>41</td>\n",
       "      <td>3.60</td>\n",
       "      <td>147.67</td>\n",
       "      <td>3.60</td>\n",
       "    </tr>\n",
       "    <tr>\n",
       "      <th>7</th>\n",
       "      <td>40+</td>\n",
       "      <td>13</td>\n",
       "      <td>2.94</td>\n",
       "      <td>38.24</td>\n",
       "      <td>2.94</td>\n",
       "    </tr>\n",
       "  </tbody>\n",
       "</table>\n",
       "</div>"
      ],
      "text/plain": [
       "  Age Bracket  Purchase Count  Average Purchase Price  Total Purchase Value  \\\n",
       "0         >10              32                    3.40                108.96   \n",
       "1       10-14              19                    2.68                 50.95   \n",
       "2       15-19             136                    3.04                412.89   \n",
       "3       20-24             365                    3.05              1,114.06   \n",
       "4       25-29             101                    2.90                293.00   \n",
       "5       30-34              73                    2.93                214.00   \n",
       "6       35-39              41                    3.60                147.67   \n",
       "7         40+              13                    2.94                 38.24   \n",
       "\n",
       "   Average Purchase Total per Age Group  \n",
       "0                                  3.40  \n",
       "1                                  2.68  \n",
       "2                                  3.04  \n",
       "3                                  3.05  \n",
       "4                                  2.90  \n",
       "5                                  2.93  \n",
       "6                                  3.60  \n",
       "7                                  2.94  "
      ]
     },
     "execution_count": 57,
     "metadata": {},
     "output_type": "execute_result"
    }
   ],
   "source": [
    "#Age Demographics: Final DataFrame \n",
    "age_Purchcount_avgpurchprice_df = pd.merge(age_purch_count,age_avgpurch_price, how = 'outer', on=\"Age Bracket\")\n",
    "age_totalpurch_df = pd.merge(age_Purchcount_avgpurchprice_df,age_totalpurch_price, how = 'outer', on=\"Age Bracket\")\n",
    "age_demographics_df = pd.merge(age_totalpurch_df,age_avgtotalper_age_df, how = 'outer', on=\"Age Bracket\")\n",
    "age_demographics_df"
   ]
  },
  {
   "cell_type": "code",
   "execution_count": null,
   "metadata": {},
   "outputs": [],
   "source": [
    "#source[creating a new column & assign value]: https://stackoverflow.com/questions/49161120/pandas-python-set-value-of-one-column-based-on-value-in-another-column\n",
    "#source[checkifavalueisbetween2values]:https://stackoverflow.com/questions/40156469/how-to-check-if-any-value-of-a-column-is-in-a-range-in-between-two-values-in-p"
   ]
  },
  {
   "cell_type": "code",
   "execution_count": 19,
   "metadata": {},
   "outputs": [
    {
     "name": "stdout",
     "output_type": "stream",
     "text": [
      "Top 5 Spenders\n",
      "--------------\n"
     ]
    }
   ],
   "source": [
    "#Top 5 spenders\n",
    "#Top 5 Spenders: Identify Top Spenders:\n",
    "print('--------------')\n",
    "print('Top 5 Spenders')\n",
    "print('--------------')\n",
    "spenders_df = df.groupby('SN')['Price'].sum().sort_values(ascending = False).reset_index(name='Total Purchase Value')\n",
    "TotalPurchValue_df= spenders_df.iloc[0:5,0:2]"
   ]
  },
  {
   "cell_type": "code",
   "execution_count": 20,
   "metadata": {},
   "outputs": [],
   "source": [
    "#Top 5 spenders: Average Purchase Price\n",
    "\n",
    "spenders_analysis_df = df.groupby('SN')['Price'].count().sort_values(ascending = False).reset_index(name='Purchase Count')\n",
    "Purchase_Count_df= spenders_analysis_df.iloc[0:5,0:2]"
   ]
  },
  {
   "cell_type": "code",
   "execution_count": 21,
   "metadata": {},
   "outputs": [],
   "source": [
    "#Insert a new column in the orginal Purchase Price df to include the Avg. Purchase Price \n",
    "#Avg Purchase price is caculated by Total Purchase Value / Purchase Count\n",
    "\n",
    "#to create a list of the variables for the dataframe\n",
    "Avg_Purch_list= list(TotalPurchValue_df.iloc[0:5,1]/Purchase_Count_df.iloc[0:5,1])\n",
    "SN_list= list(TotalPurchValue_df.iloc[0:5,0])\n",
    "\n",
    "Average_Purch_Price_df=pd.DataFrame({\"Avg. Purchase Price\":Avg_Purch_list ,\"SN\":SN_list}).set_index('SN').reset_index()"
   ]
  },
  {
   "cell_type": "code",
   "execution_count": 22,
   "metadata": {},
   "outputs": [
    {
     "data": {
      "text/html": [
       "<div>\n",
       "<style scoped>\n",
       "    .dataframe tbody tr th:only-of-type {\n",
       "        vertical-align: middle;\n",
       "    }\n",
       "\n",
       "    .dataframe tbody tr th {\n",
       "        vertical-align: top;\n",
       "    }\n",
       "\n",
       "    .dataframe thead th {\n",
       "        text-align: right;\n",
       "    }\n",
       "</style>\n",
       "<table border=\"1\" class=\"dataframe\">\n",
       "  <thead>\n",
       "    <tr style=\"text-align: right;\">\n",
       "      <th></th>\n",
       "      <th>SN</th>\n",
       "      <th>Total Purchase Value</th>\n",
       "      <th>Purchase Count</th>\n",
       "      <th>Avg. Purchase Price</th>\n",
       "    </tr>\n",
       "  </thead>\n",
       "  <tbody>\n",
       "    <tr>\n",
       "      <th>0</th>\n",
       "      <td>Lisosia93</td>\n",
       "      <td>18.96</td>\n",
       "      <td>5.00</td>\n",
       "      <td>3.79</td>\n",
       "    </tr>\n",
       "    <tr>\n",
       "      <th>1</th>\n",
       "      <td>Idastidru52</td>\n",
       "      <td>15.45</td>\n",
       "      <td>4.00</td>\n",
       "      <td>3.86</td>\n",
       "    </tr>\n",
       "    <tr>\n",
       "      <th>2</th>\n",
       "      <td>Chamjask73</td>\n",
       "      <td>13.83</td>\n",
       "      <td>nan</td>\n",
       "      <td>3.46</td>\n",
       "    </tr>\n",
       "    <tr>\n",
       "      <th>3</th>\n",
       "      <td>Iral74</td>\n",
       "      <td>13.62</td>\n",
       "      <td>4.00</td>\n",
       "      <td>4.54</td>\n",
       "    </tr>\n",
       "    <tr>\n",
       "      <th>4</th>\n",
       "      <td>Iskadarya95</td>\n",
       "      <td>13.10</td>\n",
       "      <td>nan</td>\n",
       "      <td>4.37</td>\n",
       "    </tr>\n",
       "    <tr>\n",
       "      <th>5</th>\n",
       "      <td>Aina42</td>\n",
       "      <td>nan</td>\n",
       "      <td>3.00</td>\n",
       "      <td>nan</td>\n",
       "    </tr>\n",
       "    <tr>\n",
       "      <th>6</th>\n",
       "      <td>Iri67</td>\n",
       "      <td>nan</td>\n",
       "      <td>3.00</td>\n",
       "      <td>nan</td>\n",
       "    </tr>\n",
       "  </tbody>\n",
       "</table>\n",
       "</div>"
      ],
      "text/plain": [
       "            SN  Total Purchase Value  Purchase Count  Avg. Purchase Price\n",
       "0    Lisosia93                 18.96            5.00                 3.79\n",
       "1  Idastidru52                 15.45            4.00                 3.86\n",
       "2   Chamjask73                 13.83             nan                 3.46\n",
       "3       Iral74                 13.62            4.00                 4.54\n",
       "4  Iskadarya95                 13.10             nan                 4.37\n",
       "5       Aina42                   nan            3.00                  nan\n",
       "6        Iri67                   nan            3.00                  nan"
      ]
     },
     "execution_count": 22,
     "metadata": {},
     "output_type": "execute_result"
    }
   ],
   "source": [
    "#to merge dataframes\n",
    "valueandcount_merg_df = pd.merge(TotalPurchValue_df,Purchase_Count_df, how = 'outer', on=\"SN\")\n",
    "top5spenders_df = pd.merge(valueandcount_merg_df,Average_Purch_Price_df, how = 'outer', on=\"SN\")\n",
    "top5spenders_df"
   ]
  },
  {
   "cell_type": "code",
   "execution_count": 78,
   "metadata": {},
   "outputs": [
    {
     "name": "stdout",
     "output_type": "stream",
     "text": [
      "--------------\n",
      "Most Popular Items\n",
      "--------------\n"
     ]
    }
   ],
   "source": [
    "#Most Popular Items\n",
    "#Identify Most Popular Items\n",
    "print('--------------')\n",
    "print('Most Popular Items')\n",
    "print('--------------')\n",
    "\n"
   ]
  },
  {
   "cell_type": "code",
   "execution_count": 47,
   "metadata": {},
   "outputs": [],
   "source": [
    "#Table 1 of Item Name and Purchase Count \n",
    "listofpopulargames_df = df.groupby('Item ID')['Price'].count().sort_values(ascending = False).reset_index(name= \"Purchase Count\")\n",
    "top5populargames_df= listofpopulargames_df.iloc[0:5,0:2]"
   ]
  },
  {
   "cell_type": "code",
   "execution_count": 46,
   "metadata": {},
   "outputs": [],
   "source": [
    "#list of popular game Item ID\n",
    "idnumofpopulargames = list(listofpopulargames_df.iloc[0:5,0])\n",
    "\n",
    "#I previously tried to find the most popular game by Item Name, but that didn't work because some Item Names had multiple ids. "
   ]
  },
  {
   "cell_type": "code",
   "execution_count": 43,
   "metadata": {
    "scrolled": false
   },
   "outputs": [],
   "source": [
    "#Filtered DF is by popular games - Table 2 of Item Names and ID#s\n",
    "\n",
    "populargames_df = df.loc[df['Item ID'].isin(idnumofpopulargames)]"
   ]
  },
  {
   "cell_type": "code",
   "execution_count": 44,
   "metadata": {},
   "outputs": [],
   "source": [
    "totalpurchval_mostpopular = populargames_df.groupby('Item ID')['Price'].sum().reset_index(name = \"Total Purchase Value\")"
   ]
  },
  {
   "cell_type": "code",
   "execution_count": 45,
   "metadata": {},
   "outputs": [],
   "source": [
    "itemprice_mostpopular = populargames_df.groupby('Item ID')['Price'].mean().reset_index(name = \"Purchase Price\")"
   ]
  },
  {
   "cell_type": "code",
   "execution_count": 40,
   "metadata": {},
   "outputs": [],
   "source": [
    "count_itemid_mostpopular = populargames_df.groupby('Item ID')['Item Name'].nunique().reset_index(name = \"Item Name\")"
   ]
  },
  {
   "cell_type": "code",
   "execution_count": 41,
   "metadata": {},
   "outputs": [],
   "source": [
    "itemnames = populargames_df[['Item ID', 'Item Name']].drop_duplicates()"
   ]
  },
  {
   "cell_type": "code",
   "execution_count": 42,
   "metadata": {},
   "outputs": [
    {
     "data": {
      "text/html": [
       "<div>\n",
       "<style scoped>\n",
       "    .dataframe tbody tr th:only-of-type {\n",
       "        vertical-align: middle;\n",
       "    }\n",
       "\n",
       "    .dataframe tbody tr th {\n",
       "        vertical-align: top;\n",
       "    }\n",
       "\n",
       "    .dataframe thead th {\n",
       "        text-align: right;\n",
       "    }\n",
       "</style>\n",
       "<table border=\"1\" class=\"dataframe\">\n",
       "  <thead>\n",
       "    <tr style=\"text-align: right;\">\n",
       "      <th></th>\n",
       "      <th>Item ID</th>\n",
       "      <th>Item Name</th>\n",
       "      <th>Purchase Count</th>\n",
       "      <th>Purchase Price</th>\n",
       "      <th>Total Purchase Value</th>\n",
       "    </tr>\n",
       "  </thead>\n",
       "  <tbody>\n",
       "    <tr>\n",
       "      <th>0</th>\n",
       "      <td>108.00</td>\n",
       "      <td>Extraction, Quickblade Of Trembling Hands</td>\n",
       "      <td>9</td>\n",
       "      <td>3.53</td>\n",
       "      <td>31.77</td>\n",
       "    </tr>\n",
       "    <tr>\n",
       "      <th>1</th>\n",
       "      <td>92.00</td>\n",
       "      <td>Final Critic</td>\n",
       "      <td>8</td>\n",
       "      <td>4.88</td>\n",
       "      <td>39.04</td>\n",
       "    </tr>\n",
       "    <tr>\n",
       "      <th>2</th>\n",
       "      <td>82.00</td>\n",
       "      <td>Nirvana</td>\n",
       "      <td>9</td>\n",
       "      <td>4.90</td>\n",
       "      <td>44.10</td>\n",
       "    </tr>\n",
       "    <tr>\n",
       "      <th>3</th>\n",
       "      <td>178.00</td>\n",
       "      <td>Oathbreaker, Last Hope of the Breaking Storm</td>\n",
       "      <td>12</td>\n",
       "      <td>4.23</td>\n",
       "      <td>50.76</td>\n",
       "    </tr>\n",
       "    <tr>\n",
       "      <th>4</th>\n",
       "      <td>145.00</td>\n",
       "      <td>Fiery Glass Crusader</td>\n",
       "      <td>9</td>\n",
       "      <td>4.58</td>\n",
       "      <td>41.22</td>\n",
       "    </tr>\n",
       "  </tbody>\n",
       "</table>\n",
       "</div>"
      ],
      "text/plain": [
       "   Item ID                                     Item Name  Purchase Count  \\\n",
       "0   108.00     Extraction, Quickblade Of Trembling Hands               9   \n",
       "1    92.00                                  Final Critic               8   \n",
       "2    82.00                                       Nirvana               9   \n",
       "3   178.00  Oathbreaker, Last Hope of the Breaking Storm              12   \n",
       "4   145.00                          Fiery Glass Crusader               9   \n",
       "\n",
       "   Purchase Price  Total Purchase Value  \n",
       "0            3.53                 31.77  \n",
       "1            4.88                 39.04  \n",
       "2            4.90                 44.10  \n",
       "3            4.23                 50.76  \n",
       "4            4.58                 41.22  "
      ]
     },
     "execution_count": 42,
     "metadata": {},
     "output_type": "execute_result"
    }
   ],
   "source": [
    "#merge most popluar games dfs\n",
    "\n",
    "itemnamesandpurchcount_df= pd.merge(itemnames,top5populargames_df, how = 'outer', on = \"Item ID\")\n",
    "itemprice_merge_df = pd.merge(itemnamesandpurchcount_df, itemprice_mostpopular, how = 'outer', on= \"Item ID\")\n",
    "mostpopular_final_df = pd.merge(itemprice_merge_df,totalpurchval_mostpopular, how = 'outer', on = 'Item ID')\n",
    "mostpopular_final_df.set_index(\"Item ID\").reset_index()"
   ]
  },
  {
   "cell_type": "code",
   "execution_count": 62,
   "metadata": {},
   "outputs": [],
   "source": [
    "#source[create a new column]: https://www.geeksforgeeks.org/adding-new-column-to-existing-dataframe-in-pandas/\n",
    "#source[dloc by list]: https://stackoverflow.com/questions/45803676/python-pandas-loc-filter-for-list-of-values\n",
    "#source[Selectcolumnsindf]:https://stackoverflow.com/questions/11285613/selecting-multiple-columns-in-a-pandas-dataframe\n",
    "#source[Dropduplicaterows]:http://pandas.pydata.org/pandas-docs/version/0.17/generated/pandas.DataFrame.drop_duplicates.html"
   ]
  },
  {
   "cell_type": "code",
   "execution_count": 71,
   "metadata": {},
   "outputs": [
    {
     "name": "stdout",
     "output_type": "stream",
     "text": [
      "---------------\n",
      "Most Profitable Items\n",
      "---------------\n"
     ]
    }
   ],
   "source": [
    "#Most Profitable Items\n",
    "print('---------------')\n",
    "print('Most Profitable Items')\n",
    "print('---------------')\n",
    "\n",
    "listofprofitgames_df = df.groupby('Item ID')['Price'].sum().sort_values(ascending = False).reset_index(name= \"Total Purchase Value\")\n",
    "top5profitgames_df= listofprofitgames_df.iloc[0:5,0:2]"
   ]
  },
  {
   "cell_type": "code",
   "execution_count": 72,
   "metadata": {},
   "outputs": [],
   "source": [
    "list_of_profit_games_df = list(top5profitgames_df.iloc[0:5,0])"
   ]
  },
  {
   "cell_type": "code",
   "execution_count": 73,
   "metadata": {},
   "outputs": [],
   "source": [
    "profitgames_df = df.loc[df['Item ID'].isin(list_of_profit_games_df)]"
   ]
  },
  {
   "cell_type": "code",
   "execution_count": 74,
   "metadata": {},
   "outputs": [],
   "source": [
    "profit_purchasecount_df = profitgames_df.groupby('Item ID')['Price'].count().reset_index(name ='Purchase Count')"
   ]
  },
  {
   "cell_type": "code",
   "execution_count": 75,
   "metadata": {},
   "outputs": [],
   "source": [
    "itemnames_profit = profitgames_df[['Item ID', 'Item Name']].drop_duplicates()"
   ]
  },
  {
   "cell_type": "code",
   "execution_count": 76,
   "metadata": {},
   "outputs": [],
   "source": [
    "itemprice_profit = profitgames_df.groupby('Item ID')['Price'].mean().reset_index(name ='Purchase Price')"
   ]
  },
  {
   "cell_type": "code",
   "execution_count": 77,
   "metadata": {},
   "outputs": [
    {
     "data": {
      "text/html": [
       "<div>\n",
       "<style scoped>\n",
       "    .dataframe tbody tr th:only-of-type {\n",
       "        vertical-align: middle;\n",
       "    }\n",
       "\n",
       "    .dataframe tbody tr th {\n",
       "        vertical-align: top;\n",
       "    }\n",
       "\n",
       "    .dataframe thead th {\n",
       "        text-align: right;\n",
       "    }\n",
       "</style>\n",
       "<table border=\"1\" class=\"dataframe\">\n",
       "  <thead>\n",
       "    <tr style=\"text-align: right;\">\n",
       "      <th></th>\n",
       "      <th>Item ID</th>\n",
       "      <th>Item Name</th>\n",
       "      <th>Purchase Count</th>\n",
       "      <th>Purchase Price</th>\n",
       "      <th>Total Purchase Value</th>\n",
       "    </tr>\n",
       "  </thead>\n",
       "  <tbody>\n",
       "    <tr>\n",
       "      <th>0</th>\n",
       "      <td>92.00</td>\n",
       "      <td>Final Critic</td>\n",
       "      <td>8</td>\n",
       "      <td>4.88</td>\n",
       "      <td>39.04</td>\n",
       "    </tr>\n",
       "    <tr>\n",
       "      <th>1</th>\n",
       "      <td>82.00</td>\n",
       "      <td>Nirvana</td>\n",
       "      <td>9</td>\n",
       "      <td>4.90</td>\n",
       "      <td>44.10</td>\n",
       "    </tr>\n",
       "    <tr>\n",
       "      <th>2</th>\n",
       "      <td>178.00</td>\n",
       "      <td>Oathbreaker, Last Hope of the Breaking Storm</td>\n",
       "      <td>12</td>\n",
       "      <td>4.23</td>\n",
       "      <td>50.76</td>\n",
       "    </tr>\n",
       "    <tr>\n",
       "      <th>3</th>\n",
       "      <td>145.00</td>\n",
       "      <td>Fiery Glass Crusader</td>\n",
       "      <td>9</td>\n",
       "      <td>4.58</td>\n",
       "      <td>41.22</td>\n",
       "    </tr>\n",
       "    <tr>\n",
       "      <th>4</th>\n",
       "      <td>103.00</td>\n",
       "      <td>Singed Scalpel</td>\n",
       "      <td>8</td>\n",
       "      <td>4.35</td>\n",
       "      <td>34.80</td>\n",
       "    </tr>\n",
       "  </tbody>\n",
       "</table>\n",
       "</div>"
      ],
      "text/plain": [
       "   Item ID                                     Item Name  Purchase Count  \\\n",
       "0    92.00                                  Final Critic               8   \n",
       "1    82.00                                       Nirvana               9   \n",
       "2   178.00  Oathbreaker, Last Hope of the Breaking Storm              12   \n",
       "3   145.00                          Fiery Glass Crusader               9   \n",
       "4   103.00                                Singed Scalpel               8   \n",
       "\n",
       "   Purchase Price  Total Purchase Value  \n",
       "0            4.88                 39.04  \n",
       "1            4.90                 44.10  \n",
       "2            4.23                 50.76  \n",
       "3            4.58                 41.22  \n",
       "4            4.35                 34.80  "
      ]
     },
     "execution_count": 77,
     "metadata": {},
     "output_type": "execute_result"
    }
   ],
   "source": [
    "#merge most popluar games dfs\n",
    "\n",
    "profitable_itemnamesandpurchcount_df= pd.merge(itemnames_profit,profit_purchasecount_df, how = 'outer', on = \"Item ID\")\n",
    "profitable_itemprice_merge_df = pd.merge(profitable_itemnamesandpurchcount_df, itemprice_profit, how = 'outer', on= \"Item ID\")\n",
    "mostprofit_final_df = pd.merge(profitable_itemprice_merge_df,top5profitgames_df, how = 'outer', on = 'Item ID')\n",
    "mostprofit_final_df.set_index(\"Item ID\").reset_index()"
   ]
  },
  {
   "cell_type": "code",
   "execution_count": 58,
   "metadata": {},
   "outputs": [
    {
     "name": "stdout",
     "output_type": "stream",
     "text": [
      "Extra Analysis\n",
      "Number of Item IDs per Item Name\n"
     ]
    },
    {
     "data": {
      "text/html": [
       "<div>\n",
       "<style scoped>\n",
       "    .dataframe tbody tr th:only-of-type {\n",
       "        vertical-align: middle;\n",
       "    }\n",
       "\n",
       "    .dataframe tbody tr th {\n",
       "        vertical-align: top;\n",
       "    }\n",
       "\n",
       "    .dataframe thead th {\n",
       "        text-align: right;\n",
       "    }\n",
       "</style>\n",
       "<table border=\"1\" class=\"dataframe\">\n",
       "  <thead>\n",
       "    <tr style=\"text-align: right;\">\n",
       "      <th></th>\n",
       "      <th>Item Name</th>\n",
       "      <th># of Item IDs</th>\n",
       "    </tr>\n",
       "  </thead>\n",
       "  <tbody>\n",
       "    <tr>\n",
       "      <th>28</th>\n",
       "      <td>Crucifer</td>\n",
       "      <td>2</td>\n",
       "    </tr>\n",
       "    <tr>\n",
       "      <th>56</th>\n",
       "      <td>Final Critic</td>\n",
       "      <td>2</td>\n",
       "    </tr>\n",
       "    <tr>\n",
       "      <th>98</th>\n",
       "      <td>Persuasion</td>\n",
       "      <td>2</td>\n",
       "    </tr>\n",
       "    <tr>\n",
       "      <th>137</th>\n",
       "      <td>Stormcaller</td>\n",
       "      <td>2</td>\n",
       "    </tr>\n",
       "  </tbody>\n",
       "</table>\n",
       "</div>"
      ],
      "text/plain": [
       "        Item Name  # of Item IDs\n",
       "28       Crucifer              2\n",
       "56   Final Critic              2\n",
       "98     Persuasion              2\n",
       "137   Stormcaller              2"
      ]
     },
     "execution_count": 58,
     "metadata": {},
     "output_type": "execute_result"
    }
   ],
   "source": [
    "print(\"Extra Analysis\")\n",
    "#To confirm a unique Item ID per Item Name\n",
    "#To highlight value greater than 1\n",
    "print(\"Number of Item IDs per Item Name\")\n",
    "df_itemsvsitemid= df.groupby('Item Name')['Item ID'].nunique().reset_index(name= \"# of Item IDs\")\n",
    "#df_itemsvsitemid_id= df_itemsvsitemid.subset=['# of Item IDs']\n",
    "df_itemsvsitemid_summarized = df_itemsvsitemid.loc[df_itemsvsitemid['# of Item IDs'] > 1]\n",
    "df_itemsvsitemid_summarized\n",
    "#def color_red_over1(df_itemsvsitemid):\n",
    "    #color= 'red' if df_itemsvsitemid > 1.0 else 'black'\n",
    "   # return 'color: %s' % color\n",
    "#def highlight_over1(df_itemsvsitemid):\n",
    "#    return ['bacground-color: yellow' if df_itemsvsitemid > 1.0 else '']\n",
    "\n",
    "#df_itemsvsitemid.style.\\\n",
    "  #  applymap(color_red_over1, subset=['# of Item IDs']).\\\n",
    "   # applymap(highlight_over1, subset=['# of Item IDs'])\n"
   ]
  },
  {
   "cell_type": "code",
   "execution_count": 315,
   "metadata": {},
   "outputs": [],
   "source": [
    "#source[unqiue values per group]:https://stackoverflow.com/questions/41415017/count-unique-values-using-pandas-groupby"
   ]
  },
  {
   "cell_type": "code",
   "execution_count": 316,
   "metadata": {},
   "outputs": [
    {
     "name": "stdout",
     "output_type": "stream",
     "text": [
      "Table of Item IDs for Item Name: Crucifer\n"
     ]
    },
    {
     "data": {
      "text/html": [
       "<div>\n",
       "<style scoped>\n",
       "    .dataframe tbody tr th:only-of-type {\n",
       "        vertical-align: middle;\n",
       "    }\n",
       "\n",
       "    .dataframe tbody tr th {\n",
       "        vertical-align: top;\n",
       "    }\n",
       "\n",
       "    .dataframe thead th {\n",
       "        text-align: right;\n",
       "    }\n",
       "</style>\n",
       "<table border=\"1\" class=\"dataframe\">\n",
       "  <thead>\n",
       "    <tr style=\"text-align: right;\">\n",
       "      <th></th>\n",
       "      <th>Purchase ID</th>\n",
       "      <th>SN</th>\n",
       "      <th>Age</th>\n",
       "      <th>Gender</th>\n",
       "      <th>Item ID</th>\n",
       "      <th>Item Name</th>\n",
       "      <th>Price</th>\n",
       "    </tr>\n",
       "  </thead>\n",
       "  <tbody>\n",
       "    <tr>\n",
       "      <th>121</th>\n",
       "      <td>121.00</td>\n",
       "      <td>Ilosia37</td>\n",
       "      <td>23</td>\n",
       "      <td>Male</td>\n",
       "      <td>1.00</td>\n",
       "      <td>Crucifer</td>\n",
       "      <td>3.26</td>\n",
       "    </tr>\n",
       "    <tr>\n",
       "      <th>251</th>\n",
       "      <td>251.00</td>\n",
       "      <td>Iasur80</td>\n",
       "      <td>22</td>\n",
       "      <td>Male</td>\n",
       "      <td>23.00</td>\n",
       "      <td>Crucifer</td>\n",
       "      <td>1.99</td>\n",
       "    </tr>\n",
       "    <tr>\n",
       "      <th>454</th>\n",
       "      <td>454.00</td>\n",
       "      <td>Lassimla92</td>\n",
       "      <td>25</td>\n",
       "      <td>Male</td>\n",
       "      <td>1.00</td>\n",
       "      <td>Crucifer</td>\n",
       "      <td>3.26</td>\n",
       "    </tr>\n",
       "    <tr>\n",
       "      <th>697</th>\n",
       "      <td>697.00</td>\n",
       "      <td>Tyaelistidru84</td>\n",
       "      <td>19</td>\n",
       "      <td>Female</td>\n",
       "      <td>1.00</td>\n",
       "      <td>Crucifer</td>\n",
       "      <td>3.26</td>\n",
       "    </tr>\n",
       "  </tbody>\n",
       "</table>\n",
       "</div>"
      ],
      "text/plain": [
       "     Purchase ID              SN  Age  Gender  Item ID Item Name  Price\n",
       "121       121.00        Ilosia37   23    Male     1.00  Crucifer   3.26\n",
       "251       251.00         Iasur80   22    Male    23.00  Crucifer   1.99\n",
       "454       454.00      Lassimla92   25    Male     1.00  Crucifer   3.26\n",
       "697       697.00  Tyaelistidru84   19  Female     1.00  Crucifer   3.26"
      ]
     },
     "execution_count": 316,
     "metadata": {},
     "output_type": "execute_result"
    }
   ],
   "source": [
    "#to create a dataframe to review the item Ids for \"Crucifer\"\n",
    "print(\"Table of Item IDs for Item Name: Crucifer\")\n",
    "cruciferIDs_df=df.loc[df['Item Name'] == 'Crucifer']\n",
    "cruciferIDs_df\n"
   ]
  },
  {
   "cell_type": "code",
   "execution_count": 317,
   "metadata": {},
   "outputs": [
    {
     "name": "stdout",
     "output_type": "stream",
     "text": [
      "Table of Discounted Items\n"
     ]
    },
    {
     "data": {
      "text/html": [
       "<div>\n",
       "<style scoped>\n",
       "    .dataframe tbody tr th:only-of-type {\n",
       "        vertical-align: middle;\n",
       "    }\n",
       "\n",
       "    .dataframe tbody tr th {\n",
       "        vertical-align: top;\n",
       "    }\n",
       "\n",
       "    .dataframe thead th {\n",
       "        text-align: right;\n",
       "    }\n",
       "</style>\n",
       "<table border=\"1\" class=\"dataframe\">\n",
       "  <thead>\n",
       "    <tr style=\"text-align: right;\">\n",
       "      <th></th>\n",
       "      <th>Item Name</th>\n",
       "      <th>count</th>\n",
       "      <th>mean</th>\n",
       "      <th>std</th>\n",
       "      <th>min</th>\n",
       "      <th>25%</th>\n",
       "      <th>50%</th>\n",
       "      <th>75%</th>\n",
       "      <th>max</th>\n",
       "    </tr>\n",
       "  </thead>\n",
       "  <tbody>\n",
       "    <tr>\n",
       "      <th>28</th>\n",
       "      <td>Crucifer</td>\n",
       "      <td>4.00</td>\n",
       "      <td>2.94</td>\n",
       "      <td>0.63</td>\n",
       "      <td>1.99</td>\n",
       "      <td>2.94</td>\n",
       "      <td>3.26</td>\n",
       "      <td>3.26</td>\n",
       "      <td>3.26</td>\n",
       "    </tr>\n",
       "    <tr>\n",
       "      <th>56</th>\n",
       "      <td>Final Critic</td>\n",
       "      <td>13.00</td>\n",
       "      <td>4.61</td>\n",
       "      <td>0.35</td>\n",
       "      <td>4.19</td>\n",
       "      <td>4.19</td>\n",
       "      <td>4.88</td>\n",
       "      <td>4.88</td>\n",
       "      <td>4.88</td>\n",
       "    </tr>\n",
       "    <tr>\n",
       "      <th>98</th>\n",
       "      <td>Persuasion</td>\n",
       "      <td>9.00</td>\n",
       "      <td>3.22</td>\n",
       "      <td>0.06</td>\n",
       "      <td>3.19</td>\n",
       "      <td>3.19</td>\n",
       "      <td>3.19</td>\n",
       "      <td>3.19</td>\n",
       "      <td>3.33</td>\n",
       "    </tr>\n",
       "    <tr>\n",
       "      <th>137</th>\n",
       "      <td>Stormcaller</td>\n",
       "      <td>3.00</td>\n",
       "      <td>2.59</td>\n",
       "      <td>0.66</td>\n",
       "      <td>2.21</td>\n",
       "      <td>2.21</td>\n",
       "      <td>2.21</td>\n",
       "      <td>2.78</td>\n",
       "      <td>3.36</td>\n",
       "    </tr>\n",
       "  </tbody>\n",
       "</table>\n",
       "</div>"
      ],
      "text/plain": [
       "        Item Name  count  mean  std  min  25%  50%  75%  max\n",
       "28       Crucifer   4.00  2.94 0.63 1.99 2.94 3.26 3.26 3.26\n",
       "56   Final Critic  13.00  4.61 0.35 4.19 4.19 4.88 4.88 4.88\n",
       "98     Persuasion   9.00  3.22 0.06 3.19 3.19 3.19 3.19 3.33\n",
       "137   Stormcaller   3.00  2.59 0.66 2.21 2.21 2.21 2.78 3.36"
      ]
     },
     "execution_count": 317,
     "metadata": {},
     "output_type": "execute_result"
    }
   ],
   "source": [
    "print(\"Table of Discounted Items\")\n",
    "df_statsbyItem =round(df.groupby('Item Name')['Price'].describe().reset_index(),2).fillna(0)\n",
    "df_statsbyItem_std = df_statsbyItem.loc[df_statsbyItem['std'] > .01]\n",
    "df_statsbyItem_std"
   ]
  },
  {
   "cell_type": "code",
   "execution_count": 318,
   "metadata": {},
   "outputs": [
    {
     "name": "stdout",
     "output_type": "stream",
     "text": [
      "Table of Items with an 'Item ID' of 23\n"
     ]
    },
    {
     "data": {
      "text/html": [
       "<div>\n",
       "<style scoped>\n",
       "    .dataframe tbody tr th:only-of-type {\n",
       "        vertical-align: middle;\n",
       "    }\n",
       "\n",
       "    .dataframe tbody tr th {\n",
       "        vertical-align: top;\n",
       "    }\n",
       "\n",
       "    .dataframe thead th {\n",
       "        text-align: right;\n",
       "    }\n",
       "</style>\n",
       "<table border=\"1\" class=\"dataframe\">\n",
       "  <thead>\n",
       "    <tr style=\"text-align: right;\">\n",
       "      <th></th>\n",
       "      <th>Purchase ID</th>\n",
       "      <th>SN</th>\n",
       "      <th>Age</th>\n",
       "      <th>Gender</th>\n",
       "      <th>Item ID</th>\n",
       "      <th>Item Name</th>\n",
       "      <th>Price</th>\n",
       "    </tr>\n",
       "  </thead>\n",
       "  <tbody>\n",
       "    <tr>\n",
       "      <th>251</th>\n",
       "      <td>251.00</td>\n",
       "      <td>Iasur80</td>\n",
       "      <td>22</td>\n",
       "      <td>Male</td>\n",
       "      <td>23.00</td>\n",
       "      <td>Crucifer</td>\n",
       "      <td>1.99</td>\n",
       "    </tr>\n",
       "  </tbody>\n",
       "</table>\n",
       "</div>"
      ],
      "text/plain": [
       "     Purchase ID       SN  Age Gender  Item ID Item Name  Price\n",
       "251       251.00  Iasur80   22   Male    23.00  Crucifer   1.99"
      ]
     },
     "execution_count": 318,
     "metadata": {},
     "output_type": "execute_result"
    }
   ],
   "source": [
    "#to review is Item ID # 23.0 is also for a another product\n",
    "#maybe it was a misclassfication?\n",
    "print(\"Table of Items with an 'Item ID' of 23\")\n",
    "\n",
    "itemid23_df=df.loc[df['Item ID'] == 23]\n",
    "itemid23_df"
   ]
  },
  {
   "cell_type": "code",
   "execution_count": 319,
   "metadata": {},
   "outputs": [
    {
     "name": "stdout",
     "output_type": "stream",
     "text": [
      "Since item 23 is only for Crucifer, it appears to be about a 40% discount value\n",
      "Before I rename the Item Name for Item ID '23.0' I will check to see if other items had discounted items but with the same id #\n",
      "If so, then we will change the id # rather than the name\n"
     ]
    }
   ],
   "source": [
    "print('Since item 23 is only for Crucifer, it appears to be about a 40% discount value')\n",
    "print(\"Before I rename the Item Name for Item ID '23.0' I will check to see if other items had discounted items but with the same id #\") \n",
    "print(\"If so, then we will change the id # rather than the name\")"
   ]
  },
  {
   "cell_type": "code",
   "execution_count": 320,
   "metadata": {},
   "outputs": [],
   "source": [
    "#def highlight_over0(df_statsbyItem, color='yellow'):\n",
    "    #highlight a value greater than 0\n",
    "   # print(df_statsbyItem)\n",
    "   # attr= 'background-color: {}'.format(color)\n",
    "  #  if (df_statsbyItem['std']>.01):\n",
    "    #    highlight_over0 = df_statsbyItem == (df_statsbyItem['std']>.01)\n",
    "    #    return [attr if (df_statsbyItem['std']>.01) else '' for df_statsbyItem in highlight_over0]\n",
    "   # else:\n",
    "      #  return [attr if df_statsbyItem(['std']>.01) else '' for df_statsbyItem in highlight_over0]"
   ]
  },
  {
   "cell_type": "code",
   "execution_count": 321,
   "metadata": {},
   "outputs": [],
   "source": [
    "#res = df_statsbyItem.style.apply(highlight_over0, color= 'yellow', subset=['std'])\n",
    "#res"
   ]
  },
  {
   "cell_type": "code",
   "execution_count": 322,
   "metadata": {},
   "outputs": [
    {
     "name": "stdout",
     "output_type": "stream",
     "text": [
      "Table of Discounted Items\n"
     ]
    },
    {
     "data": {
      "text/html": [
       "<div>\n",
       "<style scoped>\n",
       "    .dataframe tbody tr th:only-of-type {\n",
       "        vertical-align: middle;\n",
       "    }\n",
       "\n",
       "    .dataframe tbody tr th {\n",
       "        vertical-align: top;\n",
       "    }\n",
       "\n",
       "    .dataframe thead th {\n",
       "        text-align: right;\n",
       "    }\n",
       "</style>\n",
       "<table border=\"1\" class=\"dataframe\">\n",
       "  <thead>\n",
       "    <tr style=\"text-align: right;\">\n",
       "      <th></th>\n",
       "      <th>Item Name</th>\n",
       "      <th>count</th>\n",
       "      <th>mean</th>\n",
       "      <th>std</th>\n",
       "      <th>min</th>\n",
       "      <th>25%</th>\n",
       "      <th>50%</th>\n",
       "      <th>75%</th>\n",
       "      <th>max</th>\n",
       "    </tr>\n",
       "  </thead>\n",
       "  <tbody>\n",
       "    <tr>\n",
       "      <th>28</th>\n",
       "      <td>Crucifer</td>\n",
       "      <td>4.00</td>\n",
       "      <td>2.94</td>\n",
       "      <td>0.63</td>\n",
       "      <td>1.99</td>\n",
       "      <td>2.94</td>\n",
       "      <td>3.26</td>\n",
       "      <td>3.26</td>\n",
       "      <td>3.26</td>\n",
       "    </tr>\n",
       "    <tr>\n",
       "      <th>56</th>\n",
       "      <td>Final Critic</td>\n",
       "      <td>13.00</td>\n",
       "      <td>4.61</td>\n",
       "      <td>0.35</td>\n",
       "      <td>4.19</td>\n",
       "      <td>4.19</td>\n",
       "      <td>4.88</td>\n",
       "      <td>4.88</td>\n",
       "      <td>4.88</td>\n",
       "    </tr>\n",
       "    <tr>\n",
       "      <th>98</th>\n",
       "      <td>Persuasion</td>\n",
       "      <td>9.00</td>\n",
       "      <td>3.22</td>\n",
       "      <td>0.06</td>\n",
       "      <td>3.19</td>\n",
       "      <td>3.19</td>\n",
       "      <td>3.19</td>\n",
       "      <td>3.19</td>\n",
       "      <td>3.33</td>\n",
       "    </tr>\n",
       "    <tr>\n",
       "      <th>137</th>\n",
       "      <td>Stormcaller</td>\n",
       "      <td>3.00</td>\n",
       "      <td>2.59</td>\n",
       "      <td>0.66</td>\n",
       "      <td>2.21</td>\n",
       "      <td>2.21</td>\n",
       "      <td>2.21</td>\n",
       "      <td>2.78</td>\n",
       "      <td>3.36</td>\n",
       "    </tr>\n",
       "  </tbody>\n",
       "</table>\n",
       "</div>"
      ],
      "text/plain": [
       "        Item Name  count  mean  std  min  25%  50%  75%  max\n",
       "28       Crucifer   4.00  2.94 0.63 1.99 2.94 3.26 3.26 3.26\n",
       "56   Final Critic  13.00  4.61 0.35 4.19 4.19 4.88 4.88 4.88\n",
       "98     Persuasion   9.00  3.22 0.06 3.19 3.19 3.19 3.19 3.33\n",
       "137   Stormcaller   3.00  2.59 0.66 2.21 2.21 2.21 2.78 3.36"
      ]
     },
     "execution_count": 322,
     "metadata": {},
     "output_type": "execute_result"
    }
   ],
   "source": [
    "#statistic summary on item name and prices\n",
    "#to see products were purchased at discount\n",
    "print(\"Table of Discounted Items\")\n",
    "df_statsbyItem =round(df.groupby('Item Name')['Price'].describe().reset_index(),2).fillna(0)\n",
    "df_statsbyItem_std = df_statsbyItem.loc[df_statsbyItem['std'] > .01]\n",
    "df_statsbyItem_std"
   ]
  },
  {
   "cell_type": "code",
   "execution_count": 323,
   "metadata": {},
   "outputs": [
    {
     "name": "stdout",
     "output_type": "stream",
     "text": [
      "We will rename Item ID 23 since this discount seems normal. The ID code should have remained the same.\n"
     ]
    },
    {
     "data": {
      "text/html": [
       "<div>\n",
       "<style scoped>\n",
       "    .dataframe tbody tr th:only-of-type {\n",
       "        vertical-align: middle;\n",
       "    }\n",
       "\n",
       "    .dataframe tbody tr th {\n",
       "        vertical-align: top;\n",
       "    }\n",
       "\n",
       "    .dataframe thead th {\n",
       "        text-align: right;\n",
       "    }\n",
       "</style>\n",
       "<table border=\"1\" class=\"dataframe\">\n",
       "  <thead>\n",
       "    <tr style=\"text-align: right;\">\n",
       "      <th></th>\n",
       "      <th>Purchase ID</th>\n",
       "      <th>SN</th>\n",
       "      <th>Age</th>\n",
       "      <th>Gender</th>\n",
       "      <th>Item ID</th>\n",
       "      <th>Item Name</th>\n",
       "      <th>Price</th>\n",
       "    </tr>\n",
       "  </thead>\n",
       "  <tbody>\n",
       "    <tr>\n",
       "      <th>251</th>\n",
       "      <td>251.00</td>\n",
       "      <td>Iasur80</td>\n",
       "      <td>22</td>\n",
       "      <td>Male</td>\n",
       "      <td>1.00</td>\n",
       "      <td>Crucifer</td>\n",
       "      <td>1.99</td>\n",
       "    </tr>\n",
       "  </tbody>\n",
       "</table>\n",
       "</div>"
      ],
      "text/plain": [
       "     Purchase ID       SN  Age Gender  Item ID Item Name  Price\n",
       "251       251.00  Iasur80   22   Male     1.00  Crucifer   1.99"
      ]
     },
     "execution_count": 323,
     "metadata": {},
     "output_type": "execute_result"
    }
   ],
   "source": [
    "print(\"We will rename Item ID 23 since this discount seems normal. The ID code should have remained the same.\")\n",
    "#It could be an error in the sytem or a new disc code.\n",
    "\n",
    "df_rev1= df.loc[df['Item ID'] == 23].replace([23],1) \n",
    "df_rev1"
   ]
  },
  {
   "cell_type": "code",
   "execution_count": null,
   "metadata": {},
   "outputs": [],
   "source": [
    "#source:https://stackoverflow.com/questions/52224142/pandas-conditionally-replace-values-based-on-other-columns-values"
   ]
  },
  {
   "cell_type": "code",
   "execution_count": 266,
   "metadata": {},
   "outputs": [],
   "source": [
    "#to count the number of Items ID purchased per SN\n",
    "df_numofitemspur= df.groupby('SN')['Item ID'].nunique().sort_values(ascending = False).reset_index(name= \"Total Purchased Products\")"
   ]
  },
  {
   "cell_type": "code",
   "execution_count": null,
   "metadata": {},
   "outputs": [],
   "source": [
    "#source[Name a df column]: https://stackoverflow.com/questions/29836477/pandas-create-new-column-with-count-from-groupby"
   ]
  },
  {
   "cell_type": "code",
   "execution_count": 59,
   "metadata": {},
   "outputs": [
    {
     "data": {
      "text/html": [
       "<div>\n",
       "<style scoped>\n",
       "    .dataframe tbody tr th:only-of-type {\n",
       "        vertical-align: middle;\n",
       "    }\n",
       "\n",
       "    .dataframe tbody tr th {\n",
       "        vertical-align: top;\n",
       "    }\n",
       "\n",
       "    .dataframe thead th {\n",
       "        text-align: right;\n",
       "    }\n",
       "</style>\n",
       "<table border=\"1\" class=\"dataframe\">\n",
       "  <thead>\n",
       "    <tr style=\"text-align: right;\">\n",
       "      <th></th>\n",
       "      <th>SN</th>\n",
       "    </tr>\n",
       "    <tr>\n",
       "      <th>Total Purchased Products</th>\n",
       "      <th></th>\n",
       "    </tr>\n",
       "  </thead>\n",
       "  <tbody>\n",
       "    <tr>\n",
       "      <th>1</th>\n",
       "      <td>414</td>\n",
       "    </tr>\n",
       "    <tr>\n",
       "      <th>2</th>\n",
       "      <td>124</td>\n",
       "    </tr>\n",
       "    <tr>\n",
       "      <th>3</th>\n",
       "      <td>35</td>\n",
       "    </tr>\n",
       "    <tr>\n",
       "      <th>4</th>\n",
       "      <td>2</td>\n",
       "    </tr>\n",
       "    <tr>\n",
       "      <th>5</th>\n",
       "      <td>1</td>\n",
       "    </tr>\n",
       "  </tbody>\n",
       "</table>\n",
       "</div>"
      ],
      "text/plain": [
       "                           SN\n",
       "Total Purchased Products     \n",
       "1                         414\n",
       "2                         124\n",
       "3                          35\n",
       "4                           2\n",
       "5                           1"
      ]
     },
     "execution_count": 59,
     "metadata": {},
     "output_type": "execute_result"
    }
   ],
   "source": [
    "df_numofitemsbySN= df_numofitemspur.groupby('Total Purchased Products').count().sort_values(by=\"SN\", ascending = False)\n",
    "df_numofitemsbySN"
   ]
  },
  {
   "cell_type": "code",
   "execution_count": 34,
   "metadata": {},
   "outputs": [],
   "source": [
    "#source[summarystatisticsbygroup]:https://datascience.stackexchange.com/questions/22266/summary-statistics-by-category-using-python"
   ]
  },
  {
   "cell_type": "code",
   "execution_count": 44,
   "metadata": {},
   "outputs": [
    {
     "name": "stdout",
     "output_type": "stream",
     "text": [
      "--------------\n",
      "Gender and Age Statistics\n",
      "--------------\n"
     ]
    },
    {
     "data": {
      "text/html": [
       "<div>\n",
       "<style scoped>\n",
       "    .dataframe tbody tr th:only-of-type {\n",
       "        vertical-align: middle;\n",
       "    }\n",
       "\n",
       "    .dataframe tbody tr th {\n",
       "        vertical-align: top;\n",
       "    }\n",
       "\n",
       "    .dataframe thead th {\n",
       "        text-align: right;\n",
       "    }\n",
       "</style>\n",
       "<table border=\"1\" class=\"dataframe\">\n",
       "  <thead>\n",
       "    <tr style=\"text-align: right;\">\n",
       "      <th></th>\n",
       "      <th>Gender</th>\n",
       "      <th>count</th>\n",
       "      <th>mean</th>\n",
       "      <th>std</th>\n",
       "      <th>min</th>\n",
       "      <th>25%</th>\n",
       "      <th>50%</th>\n",
       "      <th>75%</th>\n",
       "      <th>max</th>\n",
       "    </tr>\n",
       "  </thead>\n",
       "  <tbody>\n",
       "    <tr>\n",
       "      <th>0</th>\n",
       "      <td>Female</td>\n",
       "      <td>113.00</td>\n",
       "      <td>21.00</td>\n",
       "      <td>6.00</td>\n",
       "      <td>7.00</td>\n",
       "      <td>18.00</td>\n",
       "      <td>21.00</td>\n",
       "      <td>24.00</td>\n",
       "      <td>40.00</td>\n",
       "    </tr>\n",
       "    <tr>\n",
       "      <th>1</th>\n",
       "      <td>Male</td>\n",
       "      <td>652.00</td>\n",
       "      <td>23.00</td>\n",
       "      <td>7.00</td>\n",
       "      <td>7.00</td>\n",
       "      <td>20.00</td>\n",
       "      <td>22.00</td>\n",
       "      <td>25.00</td>\n",
       "      <td>45.00</td>\n",
       "    </tr>\n",
       "    <tr>\n",
       "      <th>2</th>\n",
       "      <td>Other / Non-Disclosed</td>\n",
       "      <td>15.00</td>\n",
       "      <td>24.00</td>\n",
       "      <td>8.00</td>\n",
       "      <td>15.00</td>\n",
       "      <td>18.00</td>\n",
       "      <td>21.00</td>\n",
       "      <td>30.00</td>\n",
       "      <td>38.00</td>\n",
       "    </tr>\n",
       "  </tbody>\n",
       "</table>\n",
       "</div>"
      ],
      "text/plain": [
       "                  Gender  count  mean  std   min   25%   50%   75%   max\n",
       "0                 Female 113.00 21.00 6.00  7.00 18.00 21.00 24.00 40.00\n",
       "1                   Male 652.00 23.00 7.00  7.00 20.00 22.00 25.00 45.00\n",
       "2  Other / Non-Disclosed  15.00 24.00 8.00 15.00 18.00 21.00 30.00 38.00"
      ]
     },
     "execution_count": 44,
     "metadata": {},
     "output_type": "execute_result"
    }
   ],
   "source": [
    "#statistic summary on Gender and Age\n",
    "print('--------------')\n",
    "print('Gender and Age Statistics')\n",
    "print('--------------')\n",
    "\n",
    "df_statsbyGenderAge= round(df.groupby('Gender')['Age'].describe().reset_index(),0)\n",
    "df_statsbyGenderAge"
   ]
  },
  {
   "cell_type": "code",
   "execution_count": null,
   "metadata": {},
   "outputs": [],
   "source": [
    "#statistic summary on Gender and Age"
   ]
  }
 ],
 "metadata": {
  "kernelspec": {
   "display_name": "Python 3",
   "language": "python",
   "name": "python3"
  },
  "language_info": {
   "codemirror_mode": {
    "name": "ipython",
    "version": 3
   },
   "file_extension": ".py",
   "mimetype": "text/x-python",
   "name": "python",
   "nbconvert_exporter": "python",
   "pygments_lexer": "ipython3",
   "version": "3.7.3"
  }
 },
 "nbformat": 4,
 "nbformat_minor": 2
}
